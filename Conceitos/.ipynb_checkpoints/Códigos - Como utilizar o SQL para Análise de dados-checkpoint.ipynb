{
 "cells": [
  {
   "cell_type": "markdown",
   "id": "96d8bec6",
   "metadata": {},
   "source": [
    "<center><img width=\"25%\" src=\"https://www.camaramirimdoce.sc.gov.br/media/noticia/resumo-da-sessao-10-06-2019-111.png?w=848&h=450&t=P&c=f0f0f0&q=80&v=2\"></center>\n",
    "\n",
    "---\n",
    "\n",
    "<br>\n",
    "\n",
    "# Códigos - Como utilizar o SQL para Análise de dados\n",
    "\n",
    "<br>"
   ]
  },
  {
   "cell_type": "markdown",
   "id": "abadeee3",
   "metadata": {},
   "source": [
    "# **Sumário:**\n",
    "1. [Entendendo o problema](#Entendendo-o-problema)\n",
    "2. [Análise](#Análise)\n",
    "3. [Resultado](#Resultado)\n",
    "4. [Exemplo](#Exemplo)"
   ]
  },
  {
   "cell_type": "markdown",
   "id": "b95cb6fc",
   "metadata": {},
   "source": [
    "### **Entendendo o problema** \n",
    "[&#x1F53C;](#Sumário:) Clique para voltar para o sumário"
   ]
  },
  {
   "cell_type": "markdown",
   "id": "b57bec67",
   "metadata": {},
   "source": [
    "#### Utilizando o método 5W2H:\n",
    "1. O que vamos analisar?\n",
    "2. Por que vamos analisar?\n",
    "3. Onde vamos analisar?\n",
    "4. Como vamos analisar?\n",
    "5. Quanto vai custar/quanto tempo vai levar para analisar?\n",
    "6. Quando vamos começar?\n",
    "7. Quem vamos envolver?"
   ]
  },
  {
   "cell_type": "markdown",
   "id": "88e84fab",
   "metadata": {},
   "source": [
    "### **Análise** \n",
    "[&#x1F53C;](#Sumário:) Clique para voltar para o sumário"
   ]
  },
  {
   "cell_type": "markdown",
   "id": "1f8bd2d6",
   "metadata": {},
   "source": [
    "#### Principais comandos em SQL: <br>\n",
    "* SELECT/FROM\n",
    "* ORDER BY\n",
    "* WHERE (AND, OR, IN, BETWEEN, LIKE)\n",
    "* Funções de agregação (COUNT, SUM, AVG, MIN e MAX)\n",
    "* GROUP BY\n",
    "* HAVING\n",
    "* SUBQUERIES (WHERE / HAVING / FROM / SELECT)\n",
    "* JOINS\n",
    "* CASE\n",
    "* Funções de janela (Acumulado, percentual do total, YOY/MOM)"
   ]
  },
  {
   "cell_type": "markdown",
   "id": "a34587ba",
   "metadata": {},
   "source": [
    "### **Resultado** \n",
    "[&#x1F53C;](#Sumário:) Clique para voltar para o sumário"
   ]
  },
  {
   "cell_type": "markdown",
   "id": "073fb521",
   "metadata": {},
   "source": [
    "* Quais foram as conclusões após análise?\n",
    "* Sugestões de soluções para resolver o problema?\n",
    "* Qual a melhor solução?"
   ]
  },
  {
   "cell_type": "markdown",
   "id": "05a0a268",
   "metadata": {},
   "source": [
    "### **Exemplo** \n",
    "[&#x1F53C;](#Sumário:) Clique para voltar para o sumário"
   ]
  },
  {
   "cell_type": "markdown",
   "id": "c0cd42dc",
   "metadata": {},
   "source": [
    "1. O que vamos analisar? Captura de Leads do Marketing para o Comercial\n",
    "2. Por que vamos analisar? Taxas de conversão de contatos e de vendas estão abaixo das taxas de referência do mercado.\n",
    "3. Onde vamos analisar? Gerenciador de anúncios (Facebook e Google) ou através do CRM de Vendas\n",
    "4. Como vamos analisar? Planilhas do Excel baixadas do programa ou através do banco de dados \n",
    "5. Quanto vai custar/quanto tempo vai levar para analisar? 2 dias ou X horas\n",
    "6. Quando vamos começar? Amanhã/Hoje/Segunda\n",
    "7. Quem vamos envolver? Consultar o superior sobre a tarefa e pedir orientações (Gestor e áreas de interesse - Marketing e Vendas)\n",
    "#### Após realizar a análise dos dados:\n",
    "* Quais foram as conclusões após análise? \n",
    "    * Taxa de conversão global está baixa, mas olhando vendedor a vendedor, alguns estão com taxas até maiores do que as taxas de referência do mercado.\n",
    "    * Falta de padrão no processo de vendas entre os vendedores.\n",
    "    * Alguns vendedores gastam muito tempo com o operacional de preenchimento do CRM e dedicam menos tempo para a venda em si.\n",
    "    * Marketing está captando leads sem um padrão de qualificação (ora leads muitos bons, ora leads muitos ruins).\n",
    "    * Possivelmente falta alinhamento entre Marketing e Vendas sobre o perfil de cliente.\n",
    "* Sugestões de soluções para resolver o problema?\n",
    "    * revisão de script de vendas\n",
    "    * Treinamentos de vendas para vendedores\n",
    "    * Treinamentos de utilização do CRM\n",
    "    * Alinhamento do perfil do cliente ideal entre Vendas e Marketing\n",
    "    * Reuniões semanais entre os times de Marketing e Vendas\n",
    "* Qual a melhor solução? \n",
    "    * Reuniões semanais entre os times de Marketing e Vendas\n",
    "    * Treinamentos de vendas para vendedores"
   ]
  }
 ],
 "metadata": {
  "kernelspec": {
   "display_name": "Python 3 (ipykernel)",
   "language": "python",
   "name": "python3"
  },
  "language_info": {
   "codemirror_mode": {
    "name": "ipython",
    "version": 3
   },
   "file_extension": ".py",
   "mimetype": "text/x-python",
   "name": "python",
   "nbconvert_exporter": "python",
   "pygments_lexer": "ipython3",
   "version": "3.9.16"
  }
 },
 "nbformat": 4,
 "nbformat_minor": 5
}
