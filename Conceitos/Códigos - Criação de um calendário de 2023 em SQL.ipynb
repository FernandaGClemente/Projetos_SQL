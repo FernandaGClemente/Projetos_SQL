{
 "cells": [
  {
   "cell_type": "markdown",
   "id": "c520be9e",
   "metadata": {},
   "source": [
    "<center><img width=\"25%\" src=\"https://www.camaramirimdoce.sc.gov.br/media/noticia/resumo-da-sessao-10-06-2019-111.png?w=848&h=450&t=P&c=f0f0f0&q=80&v=2\"></center>\n",
    "\n",
    "---\n",
    "\n",
    "<br>\n",
    "\n",
    "# Criação de um calendário de 2023 em SQL\n",
    "\n",
    "<br>"
   ]
  },
  {
   "cell_type": "markdown",
   "id": "12f49187",
   "metadata": {},
   "source": [
    "CREATE TABLE TB_DimCalendario ( [Data] DATE ) <br>\n",
    "DECLARE @VAR_DataInicio DATE = ‘01/01/2023’<br>\n",
    "DECLARE @VAR_DataFim DATE = ‘31/12/2023’<br>\n",
    "<br>\n",
    "<br>\n",
    "WHILE @VAR_DataInicio <= @VAR_DataFim<br>\n",
    "BEGIN<br>\n",
    "    INSERT INTO TB_DimCalendario ( [Data] ) VALUES ( @VAR_DataInicio )<br>\n",
    "    SET @VAR_DataInicio = DATEADD (DAY,1, @VAR_DataInicio)<br>\n",
    "END<br>"
   ]
  },
  {
   "cell_type": "markdown",
   "id": "a3db97d1",
   "metadata": {},
   "source": [
    "# Versão: 1.1 (30/03/2023)"
   ]
  }
 ],
 "metadata": {
  "kernelspec": {
   "display_name": "Python 3 (ipykernel)",
   "language": "python",
   "name": "python3"
  },
  "language_info": {
   "codemirror_mode": {
    "name": "ipython",
    "version": 3
   },
   "file_extension": ".py",
   "mimetype": "text/x-python",
   "name": "python",
   "nbconvert_exporter": "python",
   "pygments_lexer": "ipython3",
   "version": "3.9.12"
  }
 },
 "nbformat": 4,
 "nbformat_minor": 5
}
