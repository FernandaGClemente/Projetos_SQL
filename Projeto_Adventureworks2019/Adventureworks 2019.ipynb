{
 "cells": [
  {
   "cell_type": "markdown",
   "id": "32a02bf2",
   "metadata": {},
   "source": [
    "# Adventureworks de 2019"
   ]
  },
  {
   "cell_type": "markdown",
   "id": "fd61ee2d",
   "metadata": {},
   "source": [
    "O objetivo deste projeto é otimizar o gerenciamento de estoque para a  empresa FitCapacity  , analisando dados de vendas e estoque. Usando o banco de dados de negócios, você deve analisar os dados de vendas para identificar quais produtos têm a maior taxa de rotatividade e quais têm a menor taxa de rotatividade. Você também deve usar estatísticas descritivas para identificar o tempo médio que um produto fica fora de estoque e a frequência de rupturas de estoque.\n",
    "\n",
    " <br>\n",
    "\n",
    "Por exemplo, você deve usar a modelagem preditiva para prever a demanda dos principais produtos e prever quando é provável que ocorram faltas de estoque. Utilize modelos de aprendizado de máquina, classifique os produtos em vendas altas, vendas baixas e vendas médias. Isso ajudará na tomada de decisões sobre quais produtos permanecerão no estoque. Depois que a análise estiver concluída, use os insights obtidos para fazer recomendações sobre como otimizar os níveis de estoque e minimizar a falta de estoque. Isso pode incluir ajustes nos pontos de reabastecimento, pedidos de determinados produtos ou descontinuação de produtos que não estão vendendo bem.\n",
    "\n",
    "> https://techcommunity.microsoft.com/t5/educator-developer-blog/data-analysis-challenge-optimizing-inventory-management/ba-p/3719598?WT.mc_id=academic-86959-ooyinbooke"
   ]
  },
  {
   "cell_type": "markdown",
   "id": "cbc0b243",
   "metadata": {},
   "source": [
    "SellCheapy Retail é uma cadeia de lojas de departamento que vende uma ampla gama de produtos, incluindo bicicletas e diversos componentes. Apesar de ter uma grande base de clientes, a empresa tem lutado para aumentar as vendas nos últimos anos. A equipe de gerenciamento está procurando usar a análise de dados para entender os padrões de gastos dos clientes e fazer alterações em suas estratégias de vendas e marketing para melhorar o desempenho.\n",
    "\n",
    " <br>\n",
    "\n",
    "A empresa coletou dados demográficos do cliente, histórico de compras e outras informações relevantes ao longo de um ano. Os dados incluem informações sobre os produtos adquiridos, o preço pago, a data da compra, etc. Você é obrigado a trabalhar com esses dados e fornecer soluções para o problema de negócios.\n",
    "\n",
    "> https://techcommunity.microsoft.com/t5/educator-developer-blog/data-analysis-challenge-analyze-customer-spending-pattern/ba-p/3719590?WT.mc_id=academic-86947-ooyinbooke"
   ]
  }
 ],
 "metadata": {
  "kernelspec": {
   "display_name": "Python 3 (ipykernel)",
   "language": "python",
   "name": "python3"
  },
  "language_info": {
   "codemirror_mode": {
    "name": "ipython",
    "version": 3
   },
   "file_extension": ".py",
   "mimetype": "text/x-python",
   "name": "python",
   "nbconvert_exporter": "python",
   "pygments_lexer": "ipython3",
   "version": "3.9.16"
  }
 },
 "nbformat": 4,
 "nbformat_minor": 5
}
